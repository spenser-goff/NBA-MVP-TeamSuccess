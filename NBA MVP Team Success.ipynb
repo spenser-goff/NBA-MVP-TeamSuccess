{
 "cells": [
  {
   "cell_type": "code",
   "execution_count": 1123,
   "id": "4a472907",
   "metadata": {},
   "outputs": [],
   "source": [
    "import requests, pandas as pd, numpy as np\n",
    "from matplotlib import pyplot as plt\n",
    "import re\n",
    "from bs4 import BeautifulSoup"
   ]
  },
  {
   "cell_type": "code",
   "execution_count": 1124,
   "id": "118d35ff",
   "metadata": {},
   "outputs": [],
   "source": [
    "url = 'https://www.basketball-reference.com/awards/mvp.html'"
   ]
  },
  {
   "cell_type": "code",
   "execution_count": 1125,
   "id": "fadff77b",
   "metadata": {},
   "outputs": [],
   "source": [
    "r = requests.get(url)\n",
    "soup = BeautifulSoup(r.content)"
   ]
  },
  {
   "cell_type": "code",
   "execution_count": 1126,
   "id": "c9466e8f",
   "metadata": {},
   "outputs": [],
   "source": [
    "#soup"
   ]
  },
  {
   "cell_type": "code",
   "execution_count": 1127,
   "id": "661d975b",
   "metadata": {},
   "outputs": [],
   "source": [
    "lst = soup.find('div', {'id':'content'}).findAll('td', {'data-stat':'team_id'})"
   ]
  },
  {
   "cell_type": "code",
   "execution_count": 1128,
   "id": "141d2162",
   "metadata": {},
   "outputs": [],
   "source": [
    "#lst"
   ]
  },
  {
   "cell_type": "code",
   "execution_count": 1129,
   "id": "924d65ae",
   "metadata": {},
   "outputs": [],
   "source": [
    "page_lst = [x.find('a')['href'] for x in lst]"
   ]
  },
  {
   "cell_type": "code",
   "execution_count": 1130,
   "id": "2622f3d9",
   "metadata": {},
   "outputs": [],
   "source": [
    "#page_lst"
   ]
  },
  {
   "cell_type": "code",
   "execution_count": 1131,
   "id": "a5d200d3",
   "metadata": {},
   "outputs": [],
   "source": [
    "n=34\n",
    "del page_lst[-n:]"
   ]
  },
  {
   "cell_type": "code",
   "execution_count": 1132,
   "id": "42cc233b",
   "metadata": {},
   "outputs": [],
   "source": [
    "#page_lst"
   ]
  },
  {
   "cell_type": "code",
   "execution_count": 1133,
   "id": "e4792396",
   "metadata": {
    "scrolled": true
   },
   "outputs": [],
   "source": [
    "#link = page_lst[0]\n",
    "#print(link)\n",
    "#url = \"https://www.basketball-reference.com\" + link\n",
    "#print(url)\n",
    "#r1 = requests.get(url)\n",
    "#root = BeautifulSoup(r1.content)\n",
    "#elt = root.find('div', {'data-template':'Partials/Teams/Summary'}).findAll('p')\n",
    "#for i in range(len(elt)):\n",
    "#    print(elt[i].getText())"
   ]
  },
  {
   "cell_type": "code",
   "execution_count": 1134,
   "id": "7b4636c6",
   "metadata": {},
   "outputs": [],
   "source": [
    "wp_lst = []\n",
    "s_lst = []\n",
    "for link in page_lst:\n",
    "    #print(link)\n",
    "    url = 'https://www.basketball-reference.com' + str(link)\n",
    "    r = requests.get(url)\n",
    "    soup = BeautifulSoup(r.content)\n",
    "    #print(url)\n",
    "    elt = soup.find('div', {'data-template':'Partials/Teams/Summary'}).findAll('p')\n",
    "    win_per = elt[0].getText()\n",
    "    if url != 'https://www.basketball-reference.com/teams/PHO/1993.html':\n",
    "        srs = elt[4].getText()\n",
    "    else:\n",
    "        srs = elt[3].getText()\n",
    "    #print(srs)\n",
    "    wp_lst.append(win_per)\n",
    "    s_lst.append(srs)"
   ]
  },
  {
   "cell_type": "code",
   "execution_count": 1135,
   "id": "88be1a83",
   "metadata": {},
   "outputs": [],
   "source": [
    "wp_lst = [x.split() for x in wp_lst]\n",
    "wp_lst = [x[1] for x in wp_lst]"
   ]
  },
  {
   "cell_type": "code",
   "execution_count": 1136,
   "id": "282da5d2",
   "metadata": {},
   "outputs": [],
   "source": [
    "s_lst = [x.split() for x in s_lst]\n",
    "s_lst = [x[1] for x in s_lst]"
   ]
  },
  {
   "cell_type": "code",
   "execution_count": 1137,
   "id": "8a638cc0",
   "metadata": {},
   "outputs": [],
   "source": [
    "year_lst = [x for x in reversed(range(1980, 2023))]"
   ]
  },
  {
   "cell_type": "code",
   "execution_count": 1138,
   "id": "976bd370",
   "metadata": {},
   "outputs": [],
   "source": [
    "#print(wp_lst)\n",
    "#print(s_lst)\n",
    "#print(year_lst)"
   ]
  },
  {
   "cell_type": "code",
   "execution_count": 1139,
   "id": "5bb7d0ab",
   "metadata": {},
   "outputs": [],
   "source": [
    "s_lst = [float(x) for x in s_lst]"
   ]
  },
  {
   "cell_type": "code",
   "execution_count": 1140,
   "id": "75873fc7",
   "metadata": {},
   "outputs": [],
   "source": [
    "#print(s_lst)"
   ]
  },
  {
   "cell_type": "code",
   "execution_count": 1141,
   "id": "01e51caf",
   "metadata": {},
   "outputs": [],
   "source": [
    "wp_lst = [x[:-1] for x in wp_lst]"
   ]
  },
  {
   "cell_type": "code",
   "execution_count": 1142,
   "id": "f1fd3621",
   "metadata": {},
   "outputs": [],
   "source": [
    "#print(wp_lst)"
   ]
  },
  {
   "cell_type": "code",
   "execution_count": 1143,
   "id": "58c8a495",
   "metadata": {},
   "outputs": [],
   "source": [
    "wp_lst = [x.split('-') for x in wp_lst]"
   ]
  },
  {
   "cell_type": "code",
   "execution_count": 1144,
   "id": "6dba8d9e",
   "metadata": {},
   "outputs": [],
   "source": [
    "#print(wp_lst)"
   ]
  },
  {
   "cell_type": "code",
   "execution_count": 1145,
   "id": "f8d73f82",
   "metadata": {},
   "outputs": [],
   "source": [
    "wp_lst = [int(y) for x in wp_lst for y in x]"
   ]
  },
  {
   "cell_type": "code",
   "execution_count": 1146,
   "id": "3611c75a",
   "metadata": {},
   "outputs": [],
   "source": [
    "#print(wp_lst)"
   ]
  },
  {
   "cell_type": "code",
   "execution_count": 1147,
   "id": "4fe92183",
   "metadata": {},
   "outputs": [],
   "source": [
    "lst = []\n",
    "for x in range(0, len(wp_lst), 2):\n",
    "    #print(\"x: \" + str(x) + \" | x + 1: \" + str(x + 1))\n",
    "    win = wp_lst[x]\n",
    "    loss = wp_lst[x+1]\n",
    "    g = win + loss\n",
    "    lst.append(round(((win / g)*100),2))\n",
    "wp_lst = lst"
   ]
  },
  {
   "cell_type": "code",
   "execution_count": 1148,
   "id": "ba11ca74",
   "metadata": {},
   "outputs": [],
   "source": [
    "#print(wp_lst)"
   ]
  },
  {
   "cell_type": "code",
   "execution_count": 1149,
   "id": "93129107",
   "metadata": {},
   "outputs": [],
   "source": [
    "link_str = \"\"\n",
    "for link in page_lst:\n",
    "    link_str = link_str + str(link) + \"\\n\""
   ]
  },
  {
   "cell_type": "code",
   "execution_count": 1150,
   "id": "a31bf8df",
   "metadata": {},
   "outputs": [],
   "source": [
    "#print(link_str)"
   ]
  },
  {
   "cell_type": "code",
   "execution_count": 1151,
   "id": "4c9311d1",
   "metadata": {},
   "outputs": [],
   "source": [
    "p = re.compile('/teams/(.*).html')"
   ]
  },
  {
   "cell_type": "code",
   "execution_count": 1152,
   "id": "11891988",
   "metadata": {},
   "outputs": [],
   "source": [
    "res = p.findall(link_str)"
   ]
  },
  {
   "cell_type": "code",
   "execution_count": 1153,
   "id": "ef20b58d",
   "metadata": {},
   "outputs": [],
   "source": [
    "team_lst = [x[:3] for x in res]"
   ]
  },
  {
   "cell_type": "code",
   "execution_count": 1154,
   "id": "b8d10a3c",
   "metadata": {},
   "outputs": [],
   "source": [
    "#print(team_lst)"
   ]
  },
  {
   "cell_type": "code",
   "execution_count": 1155,
   "id": "0b847496",
   "metadata": {},
   "outputs": [],
   "source": [
    "team_lst.insert(0, 'DEN')\n",
    "#print(team_lst)\n",
    "wp_lst.insert(0, 59.26)\n",
    "#print(wp_lst)\n",
    "s_lst.insert(0, 2.10)\n",
    "#print(s_lst)\n",
    "#print(year_lst)"
   ]
  },
  {
   "cell_type": "code",
   "execution_count": 1156,
   "id": "dc66e017",
   "metadata": {},
   "outputs": [],
   "source": [
    "cols=['Team', 'Year', 'Win %', 'SRS']\n",
    "df = pd.DataFrame(columns=cols)"
   ]
  },
  {
   "cell_type": "code",
   "execution_count": 1157,
   "id": "27df56ba",
   "metadata": {},
   "outputs": [],
   "source": [
    "df['Team'] = team_lst\n",
    "df['Year'] = year_lst\n",
    "df['Win %'] = wp_lst\n",
    "df['SRS'] = s_lst"
   ]
  },
  {
   "cell_type": "code",
   "execution_count": 1158,
   "id": "4944bbdd",
   "metadata": {},
   "outputs": [
    {
     "data": {
      "text/html": [
       "<div>\n",
       "<style scoped>\n",
       "    .dataframe tbody tr th:only-of-type {\n",
       "        vertical-align: middle;\n",
       "    }\n",
       "\n",
       "    .dataframe tbody tr th {\n",
       "        vertical-align: top;\n",
       "    }\n",
       "\n",
       "    .dataframe thead th {\n",
       "        text-align: right;\n",
       "    }\n",
       "</style>\n",
       "<table border=\"1\" class=\"dataframe\">\n",
       "  <thead>\n",
       "    <tr style=\"text-align: right;\">\n",
       "      <th></th>\n",
       "      <th>Team</th>\n",
       "      <th>Year</th>\n",
       "      <th>Win %</th>\n",
       "      <th>SRS</th>\n",
       "    </tr>\n",
       "  </thead>\n",
       "  <tbody>\n",
       "    <tr>\n",
       "      <th>0</th>\n",
       "      <td>DEN</td>\n",
       "      <td>2022</td>\n",
       "      <td>59.26</td>\n",
       "      <td>2.10</td>\n",
       "    </tr>\n",
       "    <tr>\n",
       "      <th>1</th>\n",
       "      <td>DEN</td>\n",
       "      <td>2021</td>\n",
       "      <td>65.28</td>\n",
       "      <td>4.82</td>\n",
       "    </tr>\n",
       "    <tr>\n",
       "      <th>2</th>\n",
       "      <td>MIL</td>\n",
       "      <td>2020</td>\n",
       "      <td>76.71</td>\n",
       "      <td>9.41</td>\n",
       "    </tr>\n",
       "    <tr>\n",
       "      <th>3</th>\n",
       "      <td>MIL</td>\n",
       "      <td>2019</td>\n",
       "      <td>73.17</td>\n",
       "      <td>8.04</td>\n",
       "    </tr>\n",
       "    <tr>\n",
       "      <th>4</th>\n",
       "      <td>HOU</td>\n",
       "      <td>2018</td>\n",
       "      <td>79.27</td>\n",
       "      <td>8.21</td>\n",
       "    </tr>\n",
       "    <tr>\n",
       "      <th>5</th>\n",
       "      <td>OKC</td>\n",
       "      <td>2017</td>\n",
       "      <td>57.32</td>\n",
       "      <td>1.14</td>\n",
       "    </tr>\n",
       "    <tr>\n",
       "      <th>6</th>\n",
       "      <td>GSW</td>\n",
       "      <td>2016</td>\n",
       "      <td>89.02</td>\n",
       "      <td>10.38</td>\n",
       "    </tr>\n",
       "    <tr>\n",
       "      <th>7</th>\n",
       "      <td>GSW</td>\n",
       "      <td>2015</td>\n",
       "      <td>81.71</td>\n",
       "      <td>10.01</td>\n",
       "    </tr>\n",
       "    <tr>\n",
       "      <th>8</th>\n",
       "      <td>OKC</td>\n",
       "      <td>2014</td>\n",
       "      <td>71.95</td>\n",
       "      <td>6.66</td>\n",
       "    </tr>\n",
       "    <tr>\n",
       "      <th>9</th>\n",
       "      <td>MIA</td>\n",
       "      <td>2013</td>\n",
       "      <td>80.49</td>\n",
       "      <td>7.03</td>\n",
       "    </tr>\n",
       "    <tr>\n",
       "      <th>10</th>\n",
       "      <td>MIA</td>\n",
       "      <td>2012</td>\n",
       "      <td>69.70</td>\n",
       "      <td>5.72</td>\n",
       "    </tr>\n",
       "    <tr>\n",
       "      <th>11</th>\n",
       "      <td>CHI</td>\n",
       "      <td>2011</td>\n",
       "      <td>75.61</td>\n",
       "      <td>6.53</td>\n",
       "    </tr>\n",
       "    <tr>\n",
       "      <th>12</th>\n",
       "      <td>CLE</td>\n",
       "      <td>2010</td>\n",
       "      <td>74.39</td>\n",
       "      <td>6.17</td>\n",
       "    </tr>\n",
       "    <tr>\n",
       "      <th>13</th>\n",
       "      <td>CLE</td>\n",
       "      <td>2009</td>\n",
       "      <td>80.49</td>\n",
       "      <td>8.68</td>\n",
       "    </tr>\n",
       "    <tr>\n",
       "      <th>14</th>\n",
       "      <td>LAL</td>\n",
       "      <td>2008</td>\n",
       "      <td>69.51</td>\n",
       "      <td>7.34</td>\n",
       "    </tr>\n",
       "    <tr>\n",
       "      <th>15</th>\n",
       "      <td>DAL</td>\n",
       "      <td>2007</td>\n",
       "      <td>81.71</td>\n",
       "      <td>7.28</td>\n",
       "    </tr>\n",
       "    <tr>\n",
       "      <th>16</th>\n",
       "      <td>PHO</td>\n",
       "      <td>2006</td>\n",
       "      <td>65.85</td>\n",
       "      <td>5.48</td>\n",
       "    </tr>\n",
       "    <tr>\n",
       "      <th>17</th>\n",
       "      <td>PHO</td>\n",
       "      <td>2005</td>\n",
       "      <td>75.61</td>\n",
       "      <td>7.08</td>\n",
       "    </tr>\n",
       "    <tr>\n",
       "      <th>18</th>\n",
       "      <td>MIN</td>\n",
       "      <td>2004</td>\n",
       "      <td>70.73</td>\n",
       "      <td>5.86</td>\n",
       "    </tr>\n",
       "    <tr>\n",
       "      <th>19</th>\n",
       "      <td>SAS</td>\n",
       "      <td>2003</td>\n",
       "      <td>73.17</td>\n",
       "      <td>5.65</td>\n",
       "    </tr>\n",
       "    <tr>\n",
       "      <th>20</th>\n",
       "      <td>SAS</td>\n",
       "      <td>2002</td>\n",
       "      <td>70.73</td>\n",
       "      <td>6.28</td>\n",
       "    </tr>\n",
       "    <tr>\n",
       "      <th>21</th>\n",
       "      <td>PHI</td>\n",
       "      <td>2001</td>\n",
       "      <td>68.29</td>\n",
       "      <td>3.63</td>\n",
       "    </tr>\n",
       "    <tr>\n",
       "      <th>22</th>\n",
       "      <td>LAL</td>\n",
       "      <td>2000</td>\n",
       "      <td>81.71</td>\n",
       "      <td>8.41</td>\n",
       "    </tr>\n",
       "    <tr>\n",
       "      <th>23</th>\n",
       "      <td>UTA</td>\n",
       "      <td>1999</td>\n",
       "      <td>74.00</td>\n",
       "      <td>5.54</td>\n",
       "    </tr>\n",
       "    <tr>\n",
       "      <th>24</th>\n",
       "      <td>CHI</td>\n",
       "      <td>1998</td>\n",
       "      <td>75.61</td>\n",
       "      <td>7.24</td>\n",
       "    </tr>\n",
       "    <tr>\n",
       "      <th>25</th>\n",
       "      <td>UTA</td>\n",
       "      <td>1997</td>\n",
       "      <td>78.05</td>\n",
       "      <td>7.97</td>\n",
       "    </tr>\n",
       "    <tr>\n",
       "      <th>26</th>\n",
       "      <td>CHI</td>\n",
       "      <td>1996</td>\n",
       "      <td>87.80</td>\n",
       "      <td>11.80</td>\n",
       "    </tr>\n",
       "    <tr>\n",
       "      <th>27</th>\n",
       "      <td>SAS</td>\n",
       "      <td>1995</td>\n",
       "      <td>75.61</td>\n",
       "      <td>5.90</td>\n",
       "    </tr>\n",
       "    <tr>\n",
       "      <th>28</th>\n",
       "      <td>HOU</td>\n",
       "      <td>1994</td>\n",
       "      <td>70.73</td>\n",
       "      <td>4.19</td>\n",
       "    </tr>\n",
       "    <tr>\n",
       "      <th>29</th>\n",
       "      <td>PHO</td>\n",
       "      <td>1993</td>\n",
       "      <td>75.61</td>\n",
       "      <td>6.27</td>\n",
       "    </tr>\n",
       "    <tr>\n",
       "      <th>30</th>\n",
       "      <td>CHI</td>\n",
       "      <td>1992</td>\n",
       "      <td>81.71</td>\n",
       "      <td>10.07</td>\n",
       "    </tr>\n",
       "    <tr>\n",
       "      <th>31</th>\n",
       "      <td>CHI</td>\n",
       "      <td>1991</td>\n",
       "      <td>74.39</td>\n",
       "      <td>8.57</td>\n",
       "    </tr>\n",
       "    <tr>\n",
       "      <th>32</th>\n",
       "      <td>LAL</td>\n",
       "      <td>1990</td>\n",
       "      <td>76.83</td>\n",
       "      <td>6.74</td>\n",
       "    </tr>\n",
       "    <tr>\n",
       "      <th>33</th>\n",
       "      <td>LAL</td>\n",
       "      <td>1989</td>\n",
       "      <td>69.51</td>\n",
       "      <td>6.38</td>\n",
       "    </tr>\n",
       "    <tr>\n",
       "      <th>34</th>\n",
       "      <td>CHI</td>\n",
       "      <td>1988</td>\n",
       "      <td>60.98</td>\n",
       "      <td>3.76</td>\n",
       "    </tr>\n",
       "    <tr>\n",
       "      <th>35</th>\n",
       "      <td>LAL</td>\n",
       "      <td>1987</td>\n",
       "      <td>79.27</td>\n",
       "      <td>8.31</td>\n",
       "    </tr>\n",
       "    <tr>\n",
       "      <th>36</th>\n",
       "      <td>BOS</td>\n",
       "      <td>1986</td>\n",
       "      <td>81.71</td>\n",
       "      <td>9.06</td>\n",
       "    </tr>\n",
       "    <tr>\n",
       "      <th>37</th>\n",
       "      <td>BOS</td>\n",
       "      <td>1985</td>\n",
       "      <td>76.83</td>\n",
       "      <td>6.46</td>\n",
       "    </tr>\n",
       "    <tr>\n",
       "      <th>38</th>\n",
       "      <td>BOS</td>\n",
       "      <td>1984</td>\n",
       "      <td>75.61</td>\n",
       "      <td>6.42</td>\n",
       "    </tr>\n",
       "    <tr>\n",
       "      <th>39</th>\n",
       "      <td>PHI</td>\n",
       "      <td>1983</td>\n",
       "      <td>79.27</td>\n",
       "      <td>7.53</td>\n",
       "    </tr>\n",
       "    <tr>\n",
       "      <th>40</th>\n",
       "      <td>HOU</td>\n",
       "      <td>1982</td>\n",
       "      <td>56.10</td>\n",
       "      <td>-0.39</td>\n",
       "    </tr>\n",
       "    <tr>\n",
       "      <th>41</th>\n",
       "      <td>PHI</td>\n",
       "      <td>1981</td>\n",
       "      <td>75.61</td>\n",
       "      <td>7.76</td>\n",
       "    </tr>\n",
       "    <tr>\n",
       "      <th>42</th>\n",
       "      <td>LAL</td>\n",
       "      <td>1980</td>\n",
       "      <td>73.17</td>\n",
       "      <td>5.40</td>\n",
       "    </tr>\n",
       "  </tbody>\n",
       "</table>\n",
       "</div>"
      ],
      "text/plain": [
       "   Team  Year  Win %    SRS\n",
       "0   DEN  2022  59.26   2.10\n",
       "1   DEN  2021  65.28   4.82\n",
       "2   MIL  2020  76.71   9.41\n",
       "3   MIL  2019  73.17   8.04\n",
       "4   HOU  2018  79.27   8.21\n",
       "5   OKC  2017  57.32   1.14\n",
       "6   GSW  2016  89.02  10.38\n",
       "7   GSW  2015  81.71  10.01\n",
       "8   OKC  2014  71.95   6.66\n",
       "9   MIA  2013  80.49   7.03\n",
       "10  MIA  2012  69.70   5.72\n",
       "11  CHI  2011  75.61   6.53\n",
       "12  CLE  2010  74.39   6.17\n",
       "13  CLE  2009  80.49   8.68\n",
       "14  LAL  2008  69.51   7.34\n",
       "15  DAL  2007  81.71   7.28\n",
       "16  PHO  2006  65.85   5.48\n",
       "17  PHO  2005  75.61   7.08\n",
       "18  MIN  2004  70.73   5.86\n",
       "19  SAS  2003  73.17   5.65\n",
       "20  SAS  2002  70.73   6.28\n",
       "21  PHI  2001  68.29   3.63\n",
       "22  LAL  2000  81.71   8.41\n",
       "23  UTA  1999  74.00   5.54\n",
       "24  CHI  1998  75.61   7.24\n",
       "25  UTA  1997  78.05   7.97\n",
       "26  CHI  1996  87.80  11.80\n",
       "27  SAS  1995  75.61   5.90\n",
       "28  HOU  1994  70.73   4.19\n",
       "29  PHO  1993  75.61   6.27\n",
       "30  CHI  1992  81.71  10.07\n",
       "31  CHI  1991  74.39   8.57\n",
       "32  LAL  1990  76.83   6.74\n",
       "33  LAL  1989  69.51   6.38\n",
       "34  CHI  1988  60.98   3.76\n",
       "35  LAL  1987  79.27   8.31\n",
       "36  BOS  1986  81.71   9.06\n",
       "37  BOS  1985  76.83   6.46\n",
       "38  BOS  1984  75.61   6.42\n",
       "39  PHI  1983  79.27   7.53\n",
       "40  HOU  1982  56.10  -0.39\n",
       "41  PHI  1981  75.61   7.76\n",
       "42  LAL  1980  73.17   5.40"
      ]
     },
     "execution_count": 1158,
     "metadata": {},
     "output_type": "execute_result"
    }
   ],
   "source": [
    "df"
   ]
  },
  {
   "cell_type": "code",
   "execution_count": 1159,
   "id": "c61b7f7e",
   "metadata": {},
   "outputs": [
    {
     "data": {
      "image/png": "[encoded data removed]",
      "text/plain": [
       "<Figure size 432x288 with 1 Axes>"
      ]
     },
     "metadata": {
      "needs_background": "light"
     },
     "output_type": "display_data"
    }
   ],
   "source": [
    "color_dict = {0:'k'}\n",
    "[color_dict.setdefault(i, 'coral') for i in range(1,43)]\n",
    "for i, year in enumerate (year_lst):\n",
    "    plt.scatter(wp_lst[i], s_lst[i], c=color_dict[i])\n",
    "    plt.text(wp_lst[i]+0.5, s_lst[i]-0.2, year)\n",
    "\n",
    "plt.xlabel('Win Percentage')\n",
    "plt.ylabel('SRS')  \n",
    "plt.title(\"Win % vs SRS for MVPs 1980 - 2021 and 2022 DEN\")\n",
    "plt.savefig('mvp_scatter.png')  \n",
    "plt.show()\n",
    "plt.close()"
   ]
  }
 ],
 "metadata": {
  "kernelspec": {
   "display_name": "Python 3 (ipykernel)",
   "language": "python",
   "name": "python3"
  },
  "language_info": {
   "codemirror_mode": {
    "name": "ipython",
    "version": 3
   },
   "file_extension": ".py",
   "mimetype": "text/x-python",
   "name": "python",
   "nbconvert_exporter": "python",
   "pygments_lexer": "ipython3",
   "version": "3.8.8"
  }
 },
 "nbformat": 4,
 "nbformat_minor": 5
}
